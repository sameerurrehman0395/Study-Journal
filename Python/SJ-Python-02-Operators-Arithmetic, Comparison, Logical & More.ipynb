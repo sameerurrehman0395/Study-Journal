{
 "cells": [
  {
   "cell_type": "markdown",
   "id": "5c131652",
   "metadata": {},
   "source": [
    "# Python Operators — Arithmetic, Comparison, Logical & More\n",
    "\n",
    "_A continuation of Python Basics notes — this notebook expands the Operator concepts ._  \n",
    "\n"
   ]
  },
  {
   "cell_type": "markdown",
   "id": "f5fff962",
   "metadata": {},
   "source": [
    "## 1) Operators and Operands\n",
    "\n",
    "- **Operator** → a symbol or keyword that performs an operation (`+`, `-`, `*`, `/`, etc.)  \n",
    "- **Operand** → the data value(s) the operator acts upon.\n",
    "\n",
    "Python follows **PEMDAS** order of operations:\n",
    "> Parentheses → Exponent → Multiplication/Division → Addition/Subtraction\n"
   ]
  },
  {
   "cell_type": "markdown",
   "id": "617f878a",
   "metadata": {},
   "source": [
    "## 2) Arithmetic Operators\n",
    "\n",
    "| Operator | Meaning | Example | Output |\n",
    "|-----------|----------|----------|---------|\n",
    "| `+` | Addition | `5 + 2` | `7` |\n",
    "| `-` | Subtraction | `5 - 2` | `3` |\n",
    "| `*` | Multiplication | `5 * 2` | `10` |\n",
    "| `/` | Division (float) | `5 / 2` | `2.5` |\n",
    "| `//` | Floor division | `5 // 2` | `2` |\n",
    "| `%` | Modulus (remainder) | `5 % 2` | `1` |\n",
    "| `**` | Exponentiation | `2 ** 3` | `8` |\n"
   ]
  },
  {
   "cell_type": "code",
   "execution_count": null,
   "id": "2d88a0f6",
   "metadata": {},
   "outputs": [],
   "source": [
    "# Try these operations\n",
    "a = 10\n",
    "b = 3\n",
    "print(\"Addition:\", a + b)\n",
    "print(\"Subtraction:\", a - b)\n",
    "print(\"Multiplication:\", a * b)\n",
    "print(\"Division:\", a / b)\n",
    "print(\"Floor Division:\", a // b)\n",
    "print(\"Modulus:\", a % b)\n",
    "print(\"Exponentiation:\", a ** b)"
   ]
  },
  {
   "cell_type": "markdown",
   "id": "e5aac7c4",
   "metadata": {},
   "source": [
    "### Example: Even or Odd Check Using Modulus\n",
    "\n",
    "Practical example using `%`.\n"
   ]
  },
  {
   "cell_type": "code",
   "execution_count": null,
   "id": "46be9fcd",
   "metadata": {},
   "outputs": [],
   "source": [
    "# Even or Odd\n",
    "# x = int(input(\"Enter your number: \"))\n",
    "# if x % 2 == 0:\n",
    "#     print(\"Even\")\n",
    "# else:\n",
    "#     print(\"Odd\")"
   ]
  },
  {
   "cell_type": "markdown",
   "id": "766cd616",
   "metadata": {},
   "source": [
    "## 3) Comparison (Relational) Operators\n",
    "\n",
    "They **compare** two values and return a **Boolean** (`True` or `False`).\n",
    "\n",
    "| Operator | Meaning | Example | Output |\n",
    "|-----------|----------|----------|---------|\n",
    "| `==` | Equal to | `5 == 5` | True |\n",
    "| `!=` | Not equal to | `5 != 3` | True |\n",
    "| `>` | Greater than | `7 > 5` | True |\n",
    "| `<` | Less than | `3 < 5` | True |\n",
    "| `>=` | Greater than or equal to | `5 >= 5` | True |\n",
    "| `<=` | Less than or equal to | `5 <= 6` | True |\n"
   ]
  },
  {
   "cell_type": "code",
   "execution_count": null,
   "id": "98551024",
   "metadata": {},
   "outputs": [],
   "source": [
    "# Comparison demo\n",
    "x, y = 10, 20\n",
    "print(x == y)\n",
    "print(x != y)\n",
    "print(x > y)\n",
    "print(x < y)\n",
    "print(x >= y)\n",
    "print(x <= y)"
   ]
  },
  {
   "cell_type": "markdown",
   "id": "92a5d28b",
   "metadata": {},
   "source": [
    "## 4) Assignment Operators\n",
    "\n",
    "Used to assign values or perform inline updates.\n",
    "\n",
    "| Operator | Description | Example | Equivalent to |\n",
    "|-----------|--------------|----------|----------------|\n",
    "| `=` | Assign value | `x = 5` | — |\n",
    "| `+=` | Add and assign | `x += 3` | `x = x + 3` |\n",
    "| `-=` | Subtract and assign | `x -= 2` | `x = x - 2` |\n",
    "| `*=` | Multiply and assign | `x *= 4` | `x = x * 4` |\n",
    "| `/=` | Divide and assign | `x /= 2` | `x = x / 2` |\n"
   ]
  },
  {
   "cell_type": "code",
   "execution_count": null,
   "id": "04114fc6",
   "metadata": {},
   "outputs": [],
   "source": [
    "x = 5\n",
    "x += 3\n",
    "print(\"x after += 3:\", x)\n",
    "x -= 2\n",
    "print(\"x after -= 2:\", x)\n",
    "x *= 4\n",
    "print(\"x after *= 4:\", x)\n",
    "x /= 2\n",
    "print(\"x after /= 2:\", x)"
   ]
  },
  {
   "cell_type": "markdown",
   "id": "fba6e05d",
   "metadata": {},
   "source": [
    "## 5) Logical Operators\n",
    "\n",
    "Used to combine conditional statements.  \n",
    "They return **True** or **False**.\n",
    "\n",
    "| Operator | Meaning | Example | Output |\n",
    "|-----------|----------|----------|---------|\n",
    "| `and` | True if **both** are True | `(5>3 and 8>6)` | True |\n",
    "| `or` | True if **any** is True | `(5>7 or 8>6)` | True |\n",
    "| `not` | Reverse result | `not(5>3)` | False |\n",
    "\n",
    "**From your note:**\n",
    "```python\n",
    "a = 5\n",
    "b = 8\n",
    "print(a>6 or b<10)\n",
    "print(not(a>6 or b<10))\n",
    "```\n"
   ]
  },
  {
   "cell_type": "code",
   "execution_count": null,
   "id": "e0ece6c4",
   "metadata": {},
   "outputs": [],
   "source": [
    "a = 5\n",
    "b = 8\n",
    "print(a > 6 or b < 10)     # True\n",
    "print(not(a > 6 or b < 10)) # False"
   ]
  },
  {
   "cell_type": "markdown",
   "id": "91056b1e",
   "metadata": {},
   "source": [
    "## 6) Identity Operators\n",
    "\n",
    "Check if two objects refer to the **same memory location**, not just equal values.\n",
    "\n",
    "| Operator | Description | Example |\n",
    "|-----------|--------------|----------|\n",
    "| `is` | True if both variables point to the same object | `a is b` |\n",
    "| `is not` | True if they do not point to same object | `a is not b` |\n"
   ]
  },
  {
   "cell_type": "code",
   "execution_count": null,
   "id": "986f64b0",
   "metadata": {},
   "outputs": [],
   "source": [
    "a = [1, 2, 3]\n",
    "b = [1, 2, 3]\n",
    "c = a\n",
    "\n",
    "print(a is b)     # False (different objects)\n",
    "print(a is c)     # True (same memory)\n",
    "print(a is not b) # True"
   ]
  },
  {
   "cell_type": "markdown",
   "id": "c0ba1eb9",
   "metadata": {},
   "source": [
    "## 7) Membership Operators\n",
    "\n",
    "Check if a value or substring **exists** in a sequence (list, string, tuple, etc.).\n",
    "\n",
    "| Operator | Meaning | Example |\n",
    "|-----------|----------|----------|\n",
    "| `in` | True if found | `\"a\" in \"cat\"` → True |\n",
    "| `not in` | True if not found | `\"z\" not in \"cat\"` → True |\n"
   ]
  },
  {
   "cell_type": "code",
   "execution_count": null,
   "id": "8252143b",
   "metadata": {},
   "outputs": [],
   "source": [
    "nums = [1, 2, 3, 4, 5]\n",
    "name = \"python\"\n",
    "\n",
    "print(3 in nums)\n",
    "print(7 in nums)\n",
    "print(\"py\" in name)\n",
    "print(\"java\" not in name)"
   ]
  },
  {
   "cell_type": "markdown",
   "id": "a2de0691",
   "metadata": {},
   "source": [
    "## 8) Bitwise Operators\n",
    "\n",
    "Work on **binary (bit-level)** operations.\n",
    "\n",
    "| Operator | Name | Description | Example |\n",
    "|-----------|------|--------------|----------|\n",
    "| `&` | AND | 1 if both bits are 1 | `5 & 3 → 1` |\n",
    "| `|` | OR | 1 if either bit is 1 | `5 | 3 → 7` |\n",
    "| `~` | NOT | Flips bits | `~5 → -6` |\n",
    "| `^` | XOR | 1 if bits differ | `5 ^ 3 → 6` |\n",
    "| `<<` | Left Shift | Shift bits left | `5 << 1 → 10` |\n",
    "| `>>` | Right Shift | Shift bits right | `5 >> 1 → 2` |\n"
   ]
  },
  {
   "cell_type": "code",
   "execution_count": null,
   "id": "2126c257",
   "metadata": {},
   "outputs": [],
   "source": [
    "a = 5   # 0101\n",
    "b = 3   # 0011\n",
    "print(\"a & b =\", a & b)\n",
    "print(\"a | b =\", a | b)\n",
    "print(\"a ^ b =\", a ^ b)\n",
    "print(\"~a =\", ~a)\n",
    "print(\"a << 1 =\", a << 1)\n",
    "print(\"a >> 1 =\", a >> 1)"
   ]
  },
  {
   "cell_type": "markdown",
   "id": "9de50a7f",
   "metadata": {},
   "source": [
    "## 9) Practice Tasks\n",
    "\n",
    "1. **Even-Odd Game**: Ask user for a number, print whether it’s even or odd.  \n",
    "2. **Comparison Table**: Take two numbers as input and print all comparison results.  \n",
    "3. **Logical Challenge**: Ask for age and marks, print “Eligible” only if both > 18 and > 50 respectively.  \n",
    "4. **Identity Check**: Create two lists with same values; check if they are the same object.  \n",
    "5. **Membership Test**: Ask user for a character, check if it exists in `\"python\"`.  \n",
    "6. **Bitwise Playground**: Try changing `a` and `b` values and observe output differences.\n"
   ]
  },
  {
   "cell_type": "markdown",
   "id": "51158734",
   "metadata": {},
   "source": [
    "---\n",
    "## Appendix — Original Notes (3.Operators.py)\n",
    "\n",
    "```python\n",
    "# Operator    special keyword for operation like + - * /\n",
    "#  operand    on which operator applied\n",
    "\n",
    "#    Follows PEMDAS\n",
    "\n",
    "#                           Arthematic Operators\n",
    "\n",
    "#       +, - , *, /,  \n",
    "#  %   modulus (give remainder)\n",
    "\n",
    "x = int(input(\"enter your number\"))\n",
    "if x % 2 == 0:\n",
    "    print (\"Even\")\n",
    "else:\n",
    "    print (\"Odd\")\n",
    "\n",
    "\n",
    "#  //  floor division   (give int quotient)\n",
    "# **     exponentiation\n",
    "\n",
    "\n",
    "\n",
    "\n",
    "\n",
    "#                    Comparision operator\n",
    "\n",
    "#  return boolen   True or False\n",
    "\n",
    "#   ==      equal to\n",
    "#   !=      not equal to\n",
    "#   >       greater than\n",
    "#   <       less than\n",
    "#   >=      greater than equal to\n",
    "#   <=      less than equal to#\n",
    "\n",
    "\n",
    "\n",
    "#           Assignment Operators\n",
    "\n",
    "#       =  assigning value\n",
    "#       +=\tAdd and assign\t       \tx = x + 3\n",
    "#      -=\tSubtract and assign      x = x - 2\n",
    "#      *=\tMultiply and assign \tx = x * 4\n",
    "\n",
    "\n",
    "\n",
    "#               Logical Operators\n",
    "\n",
    "#  And     if both true   result true\n",
    "#  OR      if any one is true  result true\n",
    "#  NOt      reverse the result, if true give false   and vice versa\n",
    "\n",
    "\n",
    "a=5\n",
    "b=8\n",
    "print (a>6 or b<10)\n",
    "print (not(a>6 or b<10))\n",
    "\n",
    "\n",
    "#          Identity Operators\n",
    "#   is   ,   is not\n",
    "#Identity operators check whether two objects are the same in memory (not just equal in value).\n",
    "\n",
    "# a = [1, 2, 3]\n",
    "# b = [1, 2, 3]\n",
    "# c = a\n",
    "\n",
    "\n",
    "# print(a is b)     # False (different objects in memory)\n",
    "# print(a is c)     # True (c points to the same list as a)\n",
    "# print(a is not b) # True\n",
    "\n",
    "\n",
    "#               Membership Operators\n",
    "\n",
    "# in → True if value is found.\n",
    "\n",
    "# not in → True if value is not found.\n",
    "\n",
    "# Example:\n",
    "# nums = [1, 2, 3, 4, 5]\n",
    "# name = \"python\"\n",
    "\n",
    "# print(3 in nums)        # True\n",
    "# print(7 in nums)        # False\n",
    "# print(\"py\" in name)     # True\n",
    "# print(\"java\" not in name) # True\n",
    "\n",
    "\n",
    "\n",
    "#               Bit wise operator\n",
    "\n",
    "#   AND &    True only if both are True         \n",
    "#   OR  `    True if at least one is True\n",
    "#   NOT ~   Flips the value (True → False, False → True)\n",
    "#   XOR ^    True only if inputs are different\n",
    "\n",
    "\n",
    "#    \n",
    "\n",
    "\n",
    "```"
   ]
  }
 ],
 "metadata": {
  "language_info": {
   "name": "python"
  }
 },
 "nbformat": 4,
 "nbformat_minor": 5
}
