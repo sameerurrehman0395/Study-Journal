{
 "cells": [
  {
   "cell_type": "markdown",
   "id": "d3394a34",
   "metadata": {},
   "source": [
    "# Python Basics: Variables, Types, String Formatting & Input\n",
    "\n",
    "  \n",
    "\n",
    "This notebook compiles all the key concepts I’ve learned from the Python for Beginners course. Each section includes clear explanations.\n",
    "You can run and modify the code cells as you learn to deepen your understanding.\n",
    "My original handwritten notes are included in the Appendix for reference."
   ]
  },
  {
   "cell_type": "markdown",
   "id": "c1fd2958",
   "metadata": {},
   "source": [
    "## 1) Variables & Naming Rules\n",
    "\n",
    "  \n",
    "- Only start with **underscore or alphabet** (e.g., `_temp`, `name`), not numbers.  \n",
    "- Can contain **alphabets, numbers, and underscore**.  \n",
    "- **Case-sensitive**: `myName` is different from `myname`.  \n",
    "- **Cannot** use **reserved words** (e.g., `for`, `class`, `if`).\n",
    "\n",
    "**Common naming styles**  \n",
    "- **PascalCase**: `MyName`  \n",
    "- **snake_case**: `my_name` _(most common in Python)_  \n",
    "- **flatcase**: `myname`\n"
   ]
  },
  {
   "cell_type": "code",
   "execution_count": 1,
   "id": "01e4af2f",
   "metadata": {},
   "outputs": [
    {
     "name": "stdout",
     "output_type": "stream",
     "text": [
      "sameer\n",
      "10 50 30\n"
     ]
    }
   ],
   "source": [
    "# Assignment examples\n",
    "myname = \"sameer\"\n",
    "print(myname)\n",
    "\n",
    "# Multiple assignment\n",
    "a, b, c = 10, 50, 30\n",
    "print(a, b, c)"
   ]
  },
  {
   "cell_type": "markdown",
   "id": "ec973e8f",
   "metadata": {},
   "source": [
    "## 2) How Python Runs Your Code (High-Level)\n",
    "\n",
    "**Pipeline:**\n",
    "1. **Lexical analysis** – break code into tokens (names, numbers, symbols).\n",
    "2. **Syntax parsing** – check grammar/structure.\n",
    "3. **Bytecode generation** – produce Python bytecode (`.pyc`).\n",
    "4. **Python Virtual Machine (PVM)** – executes bytecode.\n",
    "5. **Runtime** – errors are handled and output is produced.\n",
    "\n",
    "> Python is often called an **interpreted** language because the PVM executes bytecode line-by-line (conceptually).  \n",
    "> A **compiler** typically translates an entire program to machine code first.\n"
   ]
  },
  {
   "cell_type": "markdown",
   "id": "497cbe45",
   "metadata": {},
   "source": [
    "## 3) Data Types & `type()`\n",
    "\n",
    "Everything in Python is an **object** with a type. You can check it using `type(x)`.\n"
   ]
  },
  {
   "cell_type": "code",
   "execution_count": 2,
   "id": "6d051212",
   "metadata": {},
   "outputs": [
    {
     "name": "stdout",
     "output_type": "stream",
     "text": [
      "apple\n",
      "<class 'str'>\n"
     ]
    }
   ],
   "source": [
    "# Type demo\n",
    "a = \"apple\"\n",
    "print(a)\n",
    "print(type(a))  # <class 'str'>"
   ]
  },
  {
   "cell_type": "markdown",
   "id": "0e45c859",
   "metadata": {},
   "source": [
    "## 4) String Formatting\n",
    "\n",
    "Two common ways you wrote:\n",
    "- **Comma-separated print** (adds spaces automatically)\n",
    "- **f-strings** (formatted string literals, preferred for readability)\n"
   ]
  },
  {
   "cell_type": "code",
   "execution_count": 3,
   "id": "12d0671d",
   "metadata": {},
   "outputs": [
    {
     "name": "stdout",
     "output_type": "stream",
     "text": [
      "my name is sameer my age is 30\n",
      "my name is sameer, my age is 30\n"
     ]
    }
   ],
   "source": [
    "name = \"sameer\"\n",
    "age = 30\n",
    "\n",
    "# Comma-separated\n",
    "print(\"my name is\", name, \"my age is\", age)\n",
    "\n",
    "# f-string\n",
    "print(f\"my name is {name}, my age is {age}\")"
   ]
  },
  {
   "cell_type": "markdown",
   "id": "5b48b6eb",
   "metadata": {},
   "source": [
    "## 5) Type Casting (Converting Types)\n",
    "\n",
    "- **Explicit (recommended):** use constructors like `int()`, `float()`, `str()`, `bool()`.\n",
    "- **Implicit:** Python sometimes promotes numeric types automatically (e.g., `int` + `float` → `float`).\n",
    "\n",
    "**Example**\n",
    "```python\n",
    "a1 = \"1\"\n",
    "b1 = 1\n",
    "print(int(a1) + b1)   # 2\n",
    "```\n"
   ]
  },
  {
   "cell_type": "code",
   "execution_count": null,
   "id": "a06c5f79",
   "metadata": {},
   "outputs": [
    {
     "name": "stdout",
     "output_type": "stream",
     "text": [
      "2\n"
     ]
    }
   ],
   "source": [
    "# Example\n",
    "a1 = \"1\"\n",
    "b1 = 1\n",
    "print(int(a1) + b1)  # 2"
   ]
  },
  {
   "cell_type": "markdown",
   "id": "8b65bdc5",
   "metadata": {},
   "source": [
    "## 6) `input()` Basics\n",
    "\n",
    "- `input()` **always returns a string**. Convert it if you need a number.\n",
    "- You wrote a welcome message and an age increment example.\n"
   ]
  },
  {
   "cell_type": "code",
   "execution_count": 5,
   "id": "2f8358c6",
   "metadata": {},
   "outputs": [],
   "source": [
    "# Welcome example (uncomment to try)\n",
    "# name = input(\"enter your name: \")\n",
    "# print(\"welcome\", name, \"you are learning python\")\n",
    "\n",
    "# Age increment (uncomment to try)\n",
    "# a = input(\"enter your age: \")\n",
    "# print(\"you will be\", int(a) + 1, \"years old next year\")"
   ]
  },
  {
   "cell_type": "markdown",
   "id": "0581ff3b",
   "metadata": {},
   "source": [
    "## 7) Taking Two Inputs and Multiplying\n",
    "\n",
    "Convert both inputs to integers (or floats) before arithmetic.\n"
   ]
  },
  {
   "cell_type": "code",
   "execution_count": 6,
   "id": "8db2105a",
   "metadata": {},
   "outputs": [],
   "source": [
    "# Two numbers multiply (uncomment to try)\n",
    "# x = input(\"give first no: \")\n",
    "# y = input(\"give second no: \")\n",
    "# print(f\"your desired multiplication of two given number is: {int(x) * int(y)}\")"
   ]
  },
  {
   "cell_type": "markdown",
   "id": "ba3be90b",
   "metadata": {},
   "source": [
    "## 8) Percentage Calculator (Marks Example)\n",
    "\n",
    "You created a simple script to collect name and three subject marks, then compute percentage.\n"
   ]
  },
  {
   "cell_type": "code",
   "execution_count": 7,
   "id": "aa4bf280",
   "metadata": {},
   "outputs": [],
   "source": [
    "# Percentage calculator (uncomment to run)\n",
    "# print(\"Result- Please give your marks as asked\")\n",
    "# name = input(\"please enter your name: \")\n",
    "# math_marks = int(input(\"Please enter your Math marks out of 100: \"))\n",
    "# physics_marks = int(input(\"Please enter your Physics marks out of 100: \"))\n",
    "# chemistry_marks = int(input(\"Please enter your Chemistry marks out of 100: \"))\n",
    "# percentage = ((math_marks + physics_marks + chemistry_marks) / 300) * 100\n",
    "# print(f\"Thank you {name}, your final percentage is {int(percentage)}% — well done!\")"
   ]
  },
  {
   "cell_type": "markdown",
   "id": "ba1126c5",
   "metadata": {},
   "source": [
    "## 9) Building a Dictionary from User Input\n",
    "\n",
    "A **dictionary** stores key–value pairs. You initialized an empty dict and filled it from `input()`.\n"
   ]
  },
  {
   "cell_type": "code",
   "execution_count": 8,
   "id": "ce472ef8",
   "metadata": {},
   "outputs": [],
   "source": [
    "# Dictionary input (uncomment to run)\n",
    "# data = {}\n",
    "# data[\"Name\"] = input(\"enter your name: \")\n",
    "# data[\"age\"] = input(\"enter your age: \")\n",
    "# data[\"marks\"] = input(\"enter your marks: \")\n",
    "# print(data)"
   ]
  },
  {
   "cell_type": "markdown",
   "id": "bff98385",
   "metadata": {},
   "source": [
    "## 10) Extra Clarifications & Good Practices\n",
    "\n",
    "- Prefer **snake_case** for variable names in Python (PEP 8).\n",
    "- Keep names **descriptive**: `total_marks`, `percentage`, `student_name`.\n",
    "- Validate numeric input using `str.isdigit()` or exception handling.\n",
    "- Wrap interactive scripts in a `if __name__ == \"__main__\":` block when you grow beyond small snippets.\n"
   ]
  },
  {
   "cell_type": "code",
   "execution_count": 9,
   "id": "002270b4",
   "metadata": {},
   "outputs": [],
   "source": [
    "# Example: safe integer input helper\n",
    "def to_int(prompt):\n",
    "    while True:\n",
    "        s = input(prompt).strip()\n",
    "        try:\n",
    "            return int(s)\n",
    "        except ValueError:\n",
    "            print(\"Please enter a whole number. Try again.\")\n",
    "\n",
    "# Example usage (uncomment to try)\n",
    "# age = to_int(\"Age: \")\n",
    "# print(\"Next year you'll be:\", age + 1)"
   ]
  },
  {
   "cell_type": "markdown",
   "id": "ea9b66b5",
   "metadata": {},
   "source": [
    "## 11) Practice Tasks\n",
    "\n",
    "1. **Greeting Card**: Ask for a user's first and last name, then print a greeting using an f-string.  \n",
    "2. **Area Calculator**: Take length and width as inputs and print the rectangle area.  \n",
    "3. **Grade Helper**: Extend the percentage calculator to also print a grade (A, B, C, D, F).  \n",
    "4. **Student Dictionary**: Build a dict with keys: name, age (int), class, and average (float). Print it nicely.  \n",
    "5. **Type Detective**: Assign values to `x = \"5\"`, `y = 2`, then print `type(x)`, `type(y)`, and `int(x) + y`.\n"
   ]
  },
  {
   "cell_type": "markdown",
   "id": "d1c31338",
   "metadata": {},
   "source": [
    "---\n",
    "## Appendix A — Original Notes (1.Basics.py)\n",
    "\n",
    "```python\n",
    "#Variables\n",
    "\n",
    "# Only start with  underscore or alphabets\n",
    "# can coantain Alphabets, Numbers and underscore\n",
    "# variables are case sensitives\n",
    "# Variables can not be reserved words\n",
    "\n",
    "\n",
    "\n",
    "# Ways to declare Variables\n",
    "\n",
    "# pascal    MyName\n",
    "# snake     My_Name \n",
    "# flat      myname\n",
    "\n",
    "# Example\n",
    "\n",
    "\n",
    "myname=\"sameer\"\n",
    "print(myname)\n",
    "\n",
    "a,b,c=10,50,30   # For more than one variables\n",
    "print(a,b,c)\n",
    "\n",
    "\n",
    "\n",
    "# Python works\n",
    "\n",
    "#  Lexical Analysis  identify symbal numbers etc\n",
    "#  syntex parsing- varify syntex\n",
    "#  byte code gen - convert into machine code\n",
    "#  python virtual machine take it and run\n",
    "# error handling and output\n",
    "\n",
    "# python use interpretor -   run line by line\n",
    "# compilor -  run at once full code\n",
    "\n",
    "\n",
    "\n",
    "# TYpe\n",
    "\n",
    "a=  \"apple\"\n",
    "print(a)\n",
    "print(type(a))\n",
    "\n",
    "\n",
    "# Formiting String\n",
    "\n",
    "name= \"sameer\"\n",
    "age= 30\n",
    "\n",
    "print(\"my name is\",name,\"my age is\",age)\n",
    "\n",
    "print(f\"my name is{name}, my age is {age}\")\n",
    "\n",
    "\n",
    "#  TYpe Casting\n",
    "#  chnaging data type\n",
    "\n",
    "a1=\"1\"\n",
    "b1=1\n",
    "\n",
    "print(int(a1)+b1)\n",
    "\n",
    "\n",
    "# implicite\n",
    "# explicite\n",
    "```\n",
    "\n",
    "## Appendix B — Original Notes (2.Input Function.py)\n",
    "\n",
    "```python\n",
    "name=input(\"enetr your name\")   # this is actually display, which need to be fullfil\n",
    "# Remmeber: input always be STRING\n",
    "print(\"welcome \", name, \"your are learning python\" )\n",
    "\n",
    "\n",
    "# input behave as string\n",
    "a=input(\"enter your age\")\n",
    "print(\"you will be\",int(a)+1,\"year by next year \")\n",
    "\n",
    "\n",
    "#  Two inputs\n",
    "\n",
    "x=input(\"give first no: \")\n",
    "y=input(\"give second no: \")\n",
    "\n",
    "print(f\"your desired multiplication of two given number is: {int(x)*int(y)}\")\n",
    "\n",
    "\n",
    "# Percantage calculator\n",
    "\n",
    "print (\"Result- Please give your marks as asked\")\n",
    "\n",
    "name= input(\"please enter your name: \")\n",
    "\n",
    "math_marks= int(input(\"Please enter your Math marks out of 100 : \"))\n",
    "physics_marks= int(input(\"Please enter your physics marks out of 100 : \"))\n",
    "chemistry_marks= int(input(\"Please enter your chemistry marks out of 100 : \"))\n",
    "\n",
    "percantage=((math_marks+physics_marks+chemistry_marks)/300)*100\n",
    "\n",
    "print(f\"thank you {name} your final percantage is {int(percantage)}% weldone you are very intelligenet\")\n",
    "\n",
    "\n",
    "\n",
    "\n",
    "#    initializing Dictionary\n",
    "\n",
    "data={}\n",
    "\n",
    "data[\"Name\"]=input(\"enter your name\")\n",
    "data[\"age\"]=input(\"enter your age\")\n",
    "data[\"marks\"]=input(\"enter your Marks\")\n",
    "\n",
    "print(data)\n",
    "```\n"
   ]
  }
 ],
 "metadata": {
  "kernelspec": {
   "display_name": "Python 3",
   "language": "python",
   "name": "python3"
  },
  "language_info": {
   "codemirror_mode": {
    "name": "ipython",
    "version": 3
   },
   "file_extension": ".py",
   "mimetype": "text/x-python",
   "name": "python",
   "nbconvert_exporter": "python",
   "pygments_lexer": "ipython3",
   "version": "3.11.9"
  }
 },
 "nbformat": 4,
 "nbformat_minor": 5
}
